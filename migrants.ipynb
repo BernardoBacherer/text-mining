{
 "cells": [
  {
   "cell_type": "code",
   "execution_count": 335,
   "metadata": {
    "autoscroll": false,
    "collapsed": false,
    "ein.tags": "worksheet-0",
    "slideshow": {
     "slide_type": "-"
    }
   },
   "outputs": [],
   "source": [
    "import spacy\n",
    "import nltk\n",
    "import numpy as np\n",
    "import pandas as pd\n",
    "from sklearn.feature_extraction.text import TfidfVectorizer, CountVectorizer, VectorizerMixin\n",
    "from utils import *"
   ]
  },
  {
   "cell_type": "code",
   "execution_count": 334,
   "metadata": {},
   "outputs": [],
   "source": [
    "%reload_ext autoreload\n",
    "%autoreload 2\n",
    "import warnings\n",
    "warnings.filterwarnings('ignore')\n",
    "pd.set_option('max_colwidth', 120)"
   ]
  },
  {
   "cell_type": "code",
   "execution_count": 8,
   "metadata": {},
   "outputs": [],
   "source": [
    "# Note: you can add other languages that Spacy supports, or download\n",
    "# larger models for english that Spacy offers. \n",
    "nlp = spacy.load('en') "
   ]
  },
  {
   "cell_type": "code",
   "execution_count": 450,
   "metadata": {},
   "outputs": [],
   "source": [
    "from sklearn.feature_extraction.stop_words import ENGLISH_STOP_WORDS\n",
    "\n",
    "def stop_word_removal(li):    \n",
    "    return [l for l in li if l not in ENGLISH_STOP_WORDS]"
   ]
  },
  {
   "cell_type": "code",
   "execution_count": 451,
   "metadata": {
    "autoscroll": false,
    "collapsed": false,
    "ein.tags": "worksheet-0",
    "slideshow": {
     "slide_type": "-"
    }
   },
   "outputs": [],
   "source": [
    "from utils import clean_html\n",
    "from sklearn.feature_extraction.text import strip_accents_unicode\n",
    "\n",
    "\n",
    "def clean_twitter(s):\n",
    "    \"\"\" Cleans Twitter specific issues \n",
    "    \n",
    "    Can you think of what else you might need to add here?\n",
    "    \"\"\"\n",
    "    s = sub(r'@\\w+', '', s) #remove @ mentions from tweets    \n",
    "    return s\n",
    "\n",
    "def preprocessor(s):\n",
    "    \"\"\" For all basic string cleanup. \n",
    "    \n",
    "    Think of what you can add to this to improve things. What is\n",
    "    specific to your goal, how can you transform the text. Add tokens,\n",
    "    remove things, unify things. \n",
    "    \"\"\"\n",
    "    s = clean_html(s)\n",
    "    s = strip_accents_unicode(s.lower())\n",
    "    s = clean_twitter(s)\n",
    "    return s"
   ]
  },
  {
   "cell_type": "code",
   "execution_count": 452,
   "metadata": {},
   "outputs": [
    {
     "data": {
      "text/plain": [
       "'die migrant'"
      ]
     },
     "execution_count": 452,
     "metadata": {},
     "output_type": "execute_result"
    }
   ],
   "source": [
    "import spacy\n",
    "\n",
    "def cool_tokenizer(sent):\n",
    "    \"\"\" Idea from Travis in class: adds a token to the end with nsubj and root verb!\"\"\"\n",
    "    doc = nlp(sent)\n",
    "    tokens = sorted(doc, key = lambda t: t.dep_)\n",
    "    return ' '.join([t.lemma_ for t in tokens if t.dep_ in ['nsubj', 'ROOT']])\n",
    "\n",
    "cool_tokenizer('a migrant died in crossing the river')"
   ]
  },
  {
   "cell_type": "code",
   "execution_count": 453,
   "metadata": {},
   "outputs": [
    {
     "data": {
      "text/plain": [
       "['migrant:nsubj', 'die:ROOT', 'cross:pcomp', 'river:dobj']"
      ]
     },
     "execution_count": 453,
     "metadata": {},
     "output_type": "execute_result"
    }
   ],
   "source": [
    "from langdetect.lang_detect_exception import LangDetectException\n",
    "from langdetect import detect\n",
    "\n",
    "def dep_tokenizer(sent):\n",
    "    \"\"\" A simple version of tokenzing with the dependencies.\n",
    "    \n",
    "    Note: this is monolingual! Also, it still doesn't take into \n",
    "    account correlations!\n",
    "    \"\"\"\n",
    "    doc = nlp(sent)\n",
    "    tokens = [t for t in doc if not t.is_stop and t.dep_ not in ['punct', '']]\n",
    "    return [':'.join([t.lemma_,t.dep_]) for t in tokens]\n",
    "\n",
    "dep_tokenizer('a migrant died in crossing the river')"
   ]
  },
  {
   "cell_type": "code",
   "execution_count": 454,
   "metadata": {
    "autoscroll": false,
    "collapsed": false,
    "ein.tags": "worksheet-0",
    "slideshow": {
     "slide_type": "-"
    }
   },
   "outputs": [],
   "source": [
    "import re\n",
    "from sklearn.feature_extraction.stop_words import ENGLISH_STOP_WORDS\n",
    "\n",
    "def analyzer(s, ngram_range = (1,2)):\n",
    "    \"\"\" Does everything to turn raw documents into tokens.  \n",
    "    \n",
    "    Note: None of the above tokenizers are implemented!\n",
    "    \"\"\"\n",
    "    s = preprocessor(s)\n",
    "    pattern = re.compile(r\"(?u)\\b\\w\\w+\\b\")\n",
    "    unigrams = pattern.findall(s)\n",
    "    unigrams = [u for u in unigrams if u not in ENGLISH_STOP_WORDS]\n",
    "    unigrams = dep_tokenizer(s)\n",
    "    tokens = ngrammer(unigrams, ngram_range)\n",
    "    return tokens"
   ]
  },
  {
   "cell_type": "code",
   "execution_count": 455,
   "metadata": {
    "autoscroll": false,
    "collapsed": false,
    "ein.tags": "worksheet-0",
    "slideshow": {
     "slide_type": "-"
    }
   },
   "outputs": [],
   "source": [
    "X = pd.read_csv('kaggle/train.csv').tweet\n",
    "y = pd.read_csv('kaggle/train.csv').label\n",
    "\n",
    "cutoff = 1750\n",
    "X_train, X_test, y_train, y_test = X[0:cutoff], X[cutoff:], y[0:cutoff], y[cutoff:]"
   ]
  },
  {
   "cell_type": "code",
   "execution_count": 456,
   "metadata": {},
   "outputs": [
    {
     "data": {
      "text/plain": [
       "((450,), (450,))"
      ]
     },
     "execution_count": 456,
     "metadata": {},
     "output_type": "execute_result"
    }
   ],
   "source": [
    "X_test.shape, y_test.shape"
   ]
  },
  {
   "cell_type": "code",
   "execution_count": 457,
   "metadata": {
    "autoscroll": false,
    "collapsed": false,
    "ein.tags": "worksheet-0",
    "slideshow": {
     "slide_type": "-"
    }
   },
   "outputs": [],
   "source": [
    "def create_vectors(X_train, X_test, analyzer = analyzer):\n",
    "    \"\"\" Just a small helper function that applies the SKLearn Vectorizer with our analyzer \"\"\"\n",
    "    idx = X_train.shape[0]\n",
    "    X = pd.concat([X_train, X_test])\n",
    "    vectorizer = TfidfVectorizer(analyzer=analyzer).fit(X)\n",
    "    vector = vectorizer.transform(X)\n",
    "    return vector[0:idx], vector[idx:], vectorizer"
   ]
  },
  {
   "cell_type": "code",
   "execution_count": 461,
   "metadata": {
    "autoscroll": false,
    "collapsed": false,
    "ein.tags": "worksheet-0",
    "slideshow": {
     "slide_type": "-"
    }
   },
   "outputs": [],
   "source": [
    "V_train, V_test, vectorizer = create_vectors(X_train, X_test)"
   ]
  },
  {
   "cell_type": "code",
   "execution_count": 462,
   "metadata": {
    "autoscroll": false,
    "collapsed": false,
    "ein.tags": "worksheet-0",
    "slideshow": {
     "slide_type": "-"
    }
   },
   "outputs": [
    {
     "data": {
      "text/plain": [
       "0.55158023309074256"
      ]
     },
     "execution_count": 462,
     "metadata": {},
     "output_type": "execute_result"
    }
   ],
   "source": [
    "from sklearn.naive_bayes import MultinomialNB\n",
    "from sklearn.metrics import recall_score, precision_score, f1_score, average_precision_score, roc_auc_score\n",
    "\n",
    "model = MultinomialNB(class_prior=[0.5,0.5])\n",
    "model.fit(V_train, y_train)\n",
    "preds = model.predict_proba(V_test)[:,1]\n",
    "roc_auc_score(y_test, preds)"
   ]
  },
  {
   "cell_type": "code",
   "execution_count": 463,
   "metadata": {
    "autoscroll": false,
    "collapsed": false,
    "ein.tags": "worksheet-0",
    "slideshow": {
     "slide_type": "-"
    }
   },
   "outputs": [
    {
     "data": {
      "text/plain": [
       "0.69148557178482362"
      ]
     },
     "execution_count": 463,
     "metadata": {},
     "output_type": "execute_result"
    }
   ],
   "source": [
    "from sklearn.svm import LinearSVC\n",
    "\n",
    "model = LinearSVC(tol = 10e-6, max_iter = 8000)\n",
    "model.fit(V_train, y_train)\n",
    "preds = model.decision_function(V_test)\n",
    "# scorer(y_test, preds)\n",
    "roc_auc_score(y_test, preds)"
   ]
  },
  {
   "cell_type": "code",
   "execution_count": 273,
   "metadata": {},
   "outputs": [],
   "source": [
    "# Look at your false predictions!\n",
    "false_pos, false_neg = get_errors(X_test, y_test, preds)"
   ]
  },
  {
   "cell_type": "markdown",
   "metadata": {},
   "source": [
    "## Submission!\n",
    "\n",
    "Here you can make the submission required for Kaggle. "
   ]
  },
  {
   "cell_type": "code",
   "execution_count": 459,
   "metadata": {},
   "outputs": [
    {
     "data": {
      "text/plain": [
       "array([-0.62006737, -0.39139947, -0.51430024, -0.1642042 , -0.50812492,\n",
       "       -0.69595094, -0.59708002, -0.46660077, -0.49220586, -0.45437326,\n",
       "       -0.62704535,  0.03460983, -0.55639225, -0.32248204, -0.62315828,\n",
       "       -0.68500952, -0.57469783,  0.18942113, -0.5753778 , -0.53782775,\n",
       "       -0.60610609, -0.51022849, -0.581047  , -0.52080148, -0.66895792,\n",
       "       -0.381175  , -0.50118118, -0.75417221, -0.5022477 , -0.62979106,\n",
       "       -0.53121564, -0.54735739, -0.36690684, -0.37127499, -0.57469783,\n",
       "       -0.77127448, -0.59188201, -0.60184589, -0.55504831, -0.55836117,\n",
       "       -0.51430024, -0.51963622, -0.56631437, -0.6095309 , -0.57168439,\n",
       "       -0.46441326, -0.66964507, -0.41775753, -0.60939078, -0.07629341,\n",
       "       -0.60063491, -0.46702252, -0.57138097, -0.31722487, -0.57176085,\n",
       "       -0.37631394, -0.53054909, -0.38780435, -0.69517749, -0.74392093,\n",
       "       -0.60577324, -0.59627703, -0.58242079, -0.55624438, -0.62286286,\n",
       "       -0.55394184, -0.4927646 , -0.47757522, -0.62903026, -0.6058208 ,\n",
       "       -0.42784134, -0.54899049, -0.45477352, -0.70263697, -0.50141528,\n",
       "       -0.61134343, -0.5877146 , -0.49196177, -0.57469783, -0.14318325,\n",
       "       -0.55039364, -0.48280827, -0.57792447, -0.50666979, -0.6248729 ,\n",
       "       -0.59046599, -0.59999483, -0.31119448, -0.4750107 , -0.64335138,\n",
       "       -0.6411094 , -0.6912944 , -0.6017712 , -0.47972398, -0.64739522,\n",
       "       -0.51615388,  0.19900119, -0.55328056, -0.61110905, -0.66772916,\n",
       "       -0.51249426, -0.52863384, -0.3635161 , -0.52385318, -0.53572961,\n",
       "       -0.61557607, -0.70997712, -0.22989486, -0.50166285, -0.62478105,\n",
       "       -0.53217346, -0.42066906, -0.67265835, -0.28994502, -0.46927363,\n",
       "       -0.57656666, -0.49697619, -0.60736052, -0.49682124, -0.57091981,\n",
       "       -0.65198068, -0.47081566, -0.61902795, -0.55089905, -0.60814762,\n",
       "       -0.61899227, -0.75647572, -0.57047235, -0.40454208, -0.58515686,\n",
       "       -0.29969331, -0.54215721, -0.50192851, -0.6050043 , -0.70644506,\n",
       "       -0.73534713, -0.63245018, -0.54399141, -0.69363466, -0.51847754,\n",
       "       -0.53927778, -0.75249802, -0.45537477, -0.70122035, -0.58231171,\n",
       "       -0.47988755, -0.55405099, -0.56992276, -0.72699457, -0.66791904,\n",
       "       -0.50677917, -0.50841798, -0.49944115, -0.47438828, -0.66677866,\n",
       "       -0.58534641, -0.50439982, -0.59618304, -0.49023126, -0.805065  ,\n",
       "       -0.54277924, -0.61894406, -0.57495506, -0.52377693, -0.59925408,\n",
       "       -0.58925082, -0.44876301, -0.61154719, -0.55449666, -0.47168532,\n",
       "       -0.41278557, -0.77423083, -0.56749301, -0.49173436, -0.40775655,\n",
       "       -0.41865626, -0.63124068, -0.47474202, -0.57834078, -0.72480557,\n",
       "       -0.49943236, -0.68814387, -0.65138991, -0.52220301, -0.57744876,\n",
       "       -0.58773194, -0.66497146, -0.38117585, -0.67537353, -0.85481626,\n",
       "       -0.64196079, -0.61278512, -0.76497504, -0.53413973, -0.59275599,\n",
       "       -0.70540245, -0.73375095, -0.40522384, -0.39772023, -0.68323167,\n",
       "       -0.67401476, -0.45050614, -0.54952705, -0.50974396, -0.5098284 ,\n",
       "       -0.48694874, -0.43149403, -0.36298558, -0.65855726, -0.4618478 ,\n",
       "       -0.57712641, -0.66242684, -0.49705004, -0.40299627, -0.60348789,\n",
       "       -0.28129023, -0.40110383, -0.42522082, -0.72228987, -0.54202931,\n",
       "       -0.09896875, -0.84534942, -0.65035096, -0.47689871, -0.61583676,\n",
       "       -0.54561971, -0.46187433, -0.61999017,  0.18106075, -0.51869585,\n",
       "       -0.76786385, -0.69896173, -0.16758749, -0.63962989, -0.70149011,\n",
       "       -0.53642245, -0.41804637, -0.57962257, -0.48255184, -0.58060289,\n",
       "       -0.3951074 , -0.70610205, -0.54925477, -0.45442354, -0.4214295 ,\n",
       "       -0.7036159 , -0.52774957, -0.55674551, -0.27998224, -0.64509656,\n",
       "       -0.64170788, -0.71805622, -0.44452154, -0.73036878, -0.34651527,\n",
       "       -0.5443708 , -0.4639276 , -0.78732839, -0.46549143, -0.63543683,\n",
       "       -0.63167662, -0.44324863, -0.5847503 , -0.33746963, -0.37689837,\n",
       "       -0.44829353, -0.12586238, -0.59629489, -0.56161661, -0.43511574,\n",
       "       -0.47559183, -0.71126381, -0.64400853, -0.35914891, -0.60487259,\n",
       "       -0.56427376, -0.82830855, -0.60544785, -0.65540062, -0.42813337,\n",
       "       -0.63336698, -0.43366706, -0.48435766, -0.33995558, -0.6107827 ,\n",
       "       -0.68111437, -0.55430195, -0.65665721, -0.49310646, -0.36401503,\n",
       "       -0.57659673, -0.62223812, -0.69240717, -0.57825315, -0.52299271,\n",
       "       -0.42812992, -0.60924783, -0.48343887, -0.39704863, -0.49500154,\n",
       "       -0.50285752, -0.45301976, -0.61595938, -0.4229715 , -0.58534415,\n",
       "       -0.76173638, -0.73597419, -0.65608857, -0.40642433, -0.52648927,\n",
       "       -0.53450599, -0.72982975, -0.31590803, -0.65146937, -0.72509092,\n",
       "       -0.6832759 , -0.28509087, -0.50895323, -0.59734199, -0.57272208,\n",
       "       -0.67221306, -0.63315707, -0.25273298, -0.22565433, -0.48161794,\n",
       "       -0.45430704, -0.51965251, -0.39257132, -0.47186216, -0.37921865,\n",
       "       -0.37940716, -0.38680979, -0.47479477, -0.40014158, -0.41377887,\n",
       "       -0.47974055, -0.25913737, -0.53907192, -0.32118339,  0.29941965,\n",
       "       -0.54371965, -0.57574735, -0.71972033, -0.46658049,  0.41873147,\n",
       "       -0.4848069 , -0.16012313, -0.57469783, -0.60458704, -0.4677186 ,\n",
       "       -0.53511125, -0.66654053, -0.5493868 , -0.14178576, -0.64429399,\n",
       "       -0.56047551, -0.62499382, -0.38401473, -0.70182429, -0.27713531,\n",
       "       -0.59841432, -0.62004306, -0.41251796, -0.52935717, -0.30488912,\n",
       "       -0.69536175, -0.45218607, -0.57314507, -0.59861292, -0.54315826,\n",
       "       -0.53798756, -0.27805901, -0.55058001, -0.53584509, -0.45878665,\n",
       "       -0.49276969, -0.64461361, -0.61854655, -0.44887939, -0.5045571 ,\n",
       "       -0.50673117, -0.28927609, -0.61156618, -0.65555027, -0.59603265,\n",
       "       -0.63487373, -0.62021742, -0.4665026 , -0.52903187, -0.54072814,\n",
       "       -0.51683632, -0.59561551, -0.43183351, -0.54910551, -0.50809775,\n",
       "       -0.4876935 , -0.54684351, -0.3703986 , -0.64654138, -0.58978831,\n",
       "       -0.62331503, -0.58356581, -0.37233498, -0.51728834, -0.64616311,\n",
       "       -0.59761022, -0.63833715, -0.61465339, -0.63719669, -0.38018351,\n",
       "       -0.47515579, -0.72990331, -0.53939624, -0.5217997 , -0.68629145,\n",
       "       -0.66351929, -0.32231526, -0.58988417, -0.60714718, -0.58821448,\n",
       "       -0.5595107 , -0.61944718, -0.33757673, -0.46708006, -0.67519114,\n",
       "       -0.5170887 , -0.34639567, -0.48213015, -0.57469783, -0.42559629,\n",
       "       -0.42375122, -0.42570685, -0.65347561, -0.52056063, -0.50195307,\n",
       "       -0.38971022, -0.49076691, -0.62432029, -0.31356593, -0.63216127,\n",
       "       -0.4462716 , -0.29721012, -0.62248437, -0.69405602, -0.62629811,\n",
       "       -0.59159599, -0.34701552, -0.44112199, -0.4470133 , -0.52225771,\n",
       "       -0.48566788, -0.26531343, -0.63838013, -0.48939075, -0.42418427,\n",
       "       -0.53690829, -0.35595597, -0.70203195, -0.56873105, -0.65575765,\n",
       "       -0.4662833 , -0.07141174, -0.5933774 , -0.44317667, -0.49218349,\n",
       "       -0.43298367, -0.60528269, -0.48189217, -0.46533742, -0.67640921,\n",
       "       -0.16835455, -0.60753544, -0.68425841, -0.14423942, -0.57538828,\n",
       "       -0.46413851, -0.62544549, -0.57469783, -0.5839343 , -0.51968788,\n",
       "       -0.5793423 , -0.62736506, -0.66786541, -0.53749751, -0.21420158,\n",
       "       -0.7036418 , -0.45855228, -0.39657286, -0.5341473 , -0.69383039,\n",
       "       -0.20935102, -0.43794844, -0.59232391, -0.5085438 , -0.59526605,\n",
       "       -0.3751877 , -0.69263784, -0.44212755, -0.64301212, -0.68418853,\n",
       "       -0.43461473, -0.45399549, -0.59588722, -0.68810166, -0.52173757,\n",
       "       -0.53416846, -0.51358146, -0.19884982, -0.57469783, -0.52472569,\n",
       "       -0.65220255, -0.66332534, -0.58206805, -0.49177752, -0.45824102,\n",
       "       -0.62502722, -0.53335221, -0.53743375, -0.48003444, -0.39508044,\n",
       "       -0.65994304, -0.6736501 , -0.63952135, -0.38607523, -0.24050415,\n",
       "       -0.54690375, -0.61127834, -0.57469783, -0.61184197, -0.50389731,\n",
       "       -0.6254679 , -0.61547971, -0.61256336, -0.2036658 , -0.49248846,\n",
       "        0.09163101, -0.51592465, -0.29036205, -0.35050531, -0.46692408,\n",
       "       -0.47386836, -0.37696048, -0.35816589, -0.61216225, -0.67673616,\n",
       "       -0.61049725, -0.73298448, -0.51959031, -0.57469783, -0.50264321,\n",
       "       -0.57997199, -0.44828753, -0.41452014, -0.65884658, -0.55879236,\n",
       "       -0.60328949, -0.39776523, -0.41493495, -0.72209404, -0.6161259 ,\n",
       "       -0.56470982, -0.53537066, -0.3116362 , -0.4993166 , -0.42617876,\n",
       "       -0.35905489, -0.49303999, -0.57449462, -0.60485071, -0.67882941,\n",
       "       -0.48057072, -0.11182648, -0.65233657, -0.64755397, -0.55567502,\n",
       "       -0.35654492, -0.65912592, -0.49374362, -0.61067049, -0.6135063 ,\n",
       "       -0.47529682, -0.21061092, -0.5042759 , -0.4873931 , -0.59268866,\n",
       "       -0.44600886, -0.63425617, -0.52012737, -0.55842327, -0.56470916,\n",
       "       -0.71417557, -0.34069643, -0.32463272, -0.60948568, -0.46398107,\n",
       "       -0.55056624, -0.52419641, -0.83137338, -0.51794737, -0.47944882,\n",
       "       -0.50094411, -0.56385598, -0.52311305, -0.50429205, -0.74826289,\n",
       "       -0.53365476, -0.5217321 , -0.57469783, -0.53618043, -0.56452542,\n",
       "       -0.516351  , -0.5566311 , -0.6183537 , -0.43799737, -0.58992815,\n",
       "       -0.6448554 , -0.45374559, -0.33278285, -0.68573095, -0.73370809,\n",
       "       -0.62795825, -0.56668965, -0.39182093, -0.56899955])"
      ]
     },
     "execution_count": 459,
     "metadata": {},
     "output_type": "execute_result"
    }
   ],
   "source": [
    "test_df = pd.read_csv('kaggle/test.csv')\n",
    "X_sub, id_sub = test_df.tweet, test_df.id\n",
    "V_train, V_test, _ = create_vectors(X, X_sub)\n",
    "model.fit(V_train, y)\n",
    "preds = model.decision_function(V_test)"
   ]
  },
  {
   "cell_type": "code",
   "execution_count": 460,
   "metadata": {},
   "outputs": [],
   "source": [
    "write_submission_csv(preds, id_sub, 'kaggle/submission.csv')"
   ]
  }
 ],
 "metadata": {
  "kernelspec": {
   "display_name": "Python 3",
   "language": "python",
   "name": "python3"
  },
  "language_info": {
   "codemirror_mode": {
    "name": "ipython",
    "version": 3
   },
   "file_extension": ".py",
   "mimetype": "text/x-python",
   "name": "python",
   "nbconvert_exporter": "python",
   "pygments_lexer": "ipython3",
   "version": "3.6.5"
  },
  "name": "Untitled.ipynb"
 },
 "nbformat": 4,
 "nbformat_minor": 2
}
